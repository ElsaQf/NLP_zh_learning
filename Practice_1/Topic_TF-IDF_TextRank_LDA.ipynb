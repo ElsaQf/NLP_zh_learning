{
 "cells": [
  {
   "cell_type": "code",
   "execution_count": 1,
   "metadata": {
    "ExecuteTime": {
     "end_time": "2019-10-07T02:06:45.151505Z",
     "start_time": "2019-10-07T02:06:45.132095Z"
    }
   },
   "outputs": [
    {
     "data": {
      "application/javascript": [
       "IPython.notebook.set_autosave_interval(0)"
      ]
     },
     "metadata": {},
     "output_type": "display_data"
    },
    {
     "name": "stdout",
     "output_type": "stream",
     "text": [
      "Autosave disabled\n"
     ]
    }
   ],
   "source": [
    "%autosave 0"
   ]
  },
  {
   "cell_type": "markdown",
   "metadata": {},
   "source": [
    "# 主题提取\n",
    "- TF-IDF\n",
    "- TextRank\n",
    "- LDA"
   ]
  },
  {
   "cell_type": "code",
   "execution_count": 1,
   "metadata": {
    "ExecuteTime": {
     "end_time": "2019-10-07T02:48:44.679209Z",
     "start_time": "2019-10-07T02:48:43.873186Z"
    }
   },
   "outputs": [],
   "source": [
    "import pandas as pd\n",
    "import jieba.analyse as analyse"
   ]
  },
  {
   "cell_type": "markdown",
   "metadata": {},
   "source": [
    "## 关键词抽取——TF-IDF"
   ]
  },
  {
   "cell_type": "code",
   "execution_count": 2,
   "metadata": {
    "ExecuteTime": {
     "end_time": "2019-10-07T02:20:21.733518Z",
     "start_time": "2019-10-07T02:20:13.572320Z"
    }
   },
   "outputs": [
    {
     "name": "stderr",
     "output_type": "stream",
     "text": [
      "Building prefix dict from the default dictionary ...\n",
      "Loading model from cache /tmp/jieba.cache\n",
      "Loading model cost 0.468 seconds.\n",
      "Prefix dict has been built succesfully.\n"
     ]
    },
    {
     "name": "stdout",
     "output_type": "stream",
     "text": [
      "用户 2016 互联网 手机 平台 人工智能 百度 2017 智能 技术 数据 360 服务 直播 产品 企业 安全 视频 移动 应用 网络 行业 游戏 机器人 电商 内容 中国 领域 通过 发展\n"
     ]
    }
   ],
   "source": [
    "df = pd.read_csv('./data/technology_news.csv', encoding='utf-8')\n",
    "df = df.dropna()\n",
    "lines = df.content.values.tolist()\n",
    "content = \"\".join(lines)\n",
    "print(\" \".join(analyse.extract_tags(content, topK=30, withWeight=False, allowPOS=())))"
   ]
  },
  {
   "cell_type": "markdown",
   "metadata": {},
   "source": [
    "## 关键词抽取——TextRank"
   ]
  },
  {
   "cell_type": "code",
   "execution_count": 3,
   "metadata": {
    "ExecuteTime": {
     "end_time": "2019-10-07T02:21:04.456305Z",
     "start_time": "2019-10-07T02:20:28.035208Z"
    }
   },
   "outputs": [
    {
     "name": "stdout",
     "output_type": "stream",
     "text": [
      "中国 海军 训练 美国 部队 进行 官兵 航母 作战 任务 能力 军事 发展 工作 国家 问题 建设 导弹 编队 记者\n"
     ]
    }
   ],
   "source": [
    "df = pd.read_csv('./data/military_news.csv', encoding='utf-8')\n",
    "df = df.dropna()\n",
    "lines = df.content.values.tolist()\n",
    "content = \"\".join(lines)\n",
    "print(\" \".join(analyse.textrank(content, topK=20, withWeight=False, allowPOS=('ns','n','vn','v'))))"
   ]
  },
  {
   "cell_type": "markdown",
   "metadata": {},
   "source": [
    "## LDA主题模型\n",
    "- 对每一句分词，去停用词，转换成\\[[w1，w2,...],[w,...],...,[...]]格式\n",
    "- dictionary\n",
    "- corpus\n",
    "- lda_model"
   ]
  },
  {
   "cell_type": "code",
   "execution_count": null,
   "metadata": {},
   "outputs": [],
   "source": []
  },
  {
   "cell_type": "code",
   "execution_count": 2,
   "metadata": {
    "ExecuteTime": {
     "end_time": "2019-10-07T02:48:52.355048Z",
     "start_time": "2019-10-07T02:48:52.041427Z"
    }
   },
   "outputs": [],
   "source": [
    "from gensim import corpora, models, similarities\n",
    "import gensim"
   ]
  },
  {
   "cell_type": "code",
   "execution_count": 3,
   "metadata": {
    "ExecuteTime": {
     "end_time": "2019-10-07T02:48:55.015965Z",
     "start_time": "2019-10-07T02:48:54.996061Z"
    }
   },
   "outputs": [],
   "source": [
    "stopwords = pd.read_csv('./data/stopwords.txt', index_col=False, quoting=3, sep=\"\\t\", names=['stopword'], encoding='utf-8')\n",
    "stopwords = stopwords['stopword'].values"
   ]
  },
  {
   "cell_type": "code",
   "execution_count": 4,
   "metadata": {
    "ExecuteTime": {
     "end_time": "2019-10-07T02:48:56.454227Z",
     "start_time": "2019-10-07T02:48:56.450096Z"
    }
   },
   "outputs": [],
   "source": [
    "import jieba"
   ]
  },
  {
   "cell_type": "code",
   "execution_count": 12,
   "metadata": {
    "ExecuteTime": {
     "end_time": "2019-10-07T03:24:55.975132Z",
     "start_time": "2019-10-07T03:24:17.205037Z"
    }
   },
   "outputs": [],
   "source": [
    "df = pd.read_csv('./data/technology_news.csv', encoding='utf-8')\n",
    "df = df.dropna()\n",
    "lines = df.content.values.tolist()\n",
    "\n",
    "sentences = []\n",
    "for line in lines:\n",
    "    try:\n",
    "        segs = jieba.lcut(line)\n",
    "        segs = filter(lambda x: len(x)>1, segs)\n",
    "        segs = filter(lambda x: x not in stopwords, segs)\n",
    "        sentences.append(list(segs))\n",
    "    except Exception:\n",
    "        print(line)\n",
    "        continue"
   ]
  },
  {
   "cell_type": "code",
   "execution_count": 13,
   "metadata": {
    "ExecuteTime": {
     "end_time": "2019-10-07T03:25:32.668398Z",
     "start_time": "2019-10-07T03:25:32.661682Z"
    }
   },
   "outputs": [
    {
     "data": {
      "text/plain": [
       "['本次',\n",
       " '商汤',\n",
       " '带来',\n",
       " '黄仁勋',\n",
       " '展示',\n",
       " '遥相呼应',\n",
       " 'SenseFace',\n",
       " '人脸',\n",
       " '布控',\n",
       " '系统',\n",
       " '千万级',\n",
       " '人员',\n",
       " '库中',\n",
       " '300ms',\n",
       " '识别',\n",
       " '瞬间',\n",
       " '锁定目标',\n",
       " '功耗',\n",
       " '十几',\n",
       " '当属',\n",
       " '人脸',\n",
       " '布控',\n",
       " '一大',\n",
       " '科技']"
      ]
     },
     "execution_count": 13,
     "metadata": {},
     "output_type": "execute_result"
    }
   ],
   "source": [
    "sentences[5]"
   ]
  },
  {
   "cell_type": "markdown",
   "metadata": {},
   "source": [
    "## 词袋模型"
   ]
  },
  {
   "cell_type": "code",
   "execution_count": 14,
   "metadata": {
    "ExecuteTime": {
     "end_time": "2019-10-07T03:25:47.200484Z",
     "start_time": "2019-10-07T03:25:45.981607Z"
    }
   },
   "outputs": [],
   "source": [
    "dictionary = corpora.Dictionary(sentences)\n",
    "corpus = [dictionary.doc2bow(sentence) for sentence in sentences]"
   ]
  },
  {
   "cell_type": "code",
   "execution_count": 16,
   "metadata": {
    "ExecuteTime": {
     "end_time": "2019-10-07T03:25:52.467991Z",
     "start_time": "2019-10-07T03:25:52.460216Z"
    }
   },
   "outputs": [
    {
     "data": {
      "text/plain": [
       "[(21, 1),\n",
       " (39, 1),\n",
       " (61, 1),\n",
       " (68, 1),\n",
       " (78, 1),\n",
       " (82, 1),\n",
       " (91, 1),\n",
       " (92, 1),\n",
       " (103, 1),\n",
       " (104, 2),\n",
       " (105, 2),\n",
       " (124, 1),\n",
       " (129, 1),\n",
       " (130, 1),\n",
       " (131, 1),\n",
       " (132, 1),\n",
       " (133, 1),\n",
       " (134, 1),\n",
       " (135, 1),\n",
       " (136, 1),\n",
       " (137, 1),\n",
       " (138, 1)]"
      ]
     },
     "execution_count": 16,
     "metadata": {},
     "output_type": "execute_result"
    }
   ],
   "source": [
    "corpus[5]"
   ]
  },
  {
   "cell_type": "markdown",
   "metadata": {},
   "source": [
    "## LDA建模"
   ]
  },
  {
   "cell_type": "code",
   "execution_count": 18,
   "metadata": {
    "ExecuteTime": {
     "end_time": "2019-10-07T03:26:11.503029Z",
     "start_time": "2019-10-07T03:26:01.878577Z"
    }
   },
   "outputs": [],
   "source": [
    "lda = gensim.models.ldamodel.LdaModel(corpus=corpus, id2word=dictionary, num_topics=20)"
   ]
  },
  {
   "cell_type": "code",
   "execution_count": 19,
   "metadata": {
    "ExecuteTime": {
     "end_time": "2019-10-07T03:26:34.890313Z",
     "start_time": "2019-10-07T03:26:34.878233Z"
    }
   },
   "outputs": [
    {
     "name": "stdout",
     "output_type": "stream",
     "text": [
      "0.032*\"增长\" + 0.025*\"市场\" + 0.022*\"亿元\" + 0.016*\"显示\" + 0.016*\"公司\"\n"
     ]
    }
   ],
   "source": [
    "print(lda.print_topic(3, topn=5))"
   ]
  },
  {
   "cell_type": "code",
   "execution_count": 20,
   "metadata": {
    "ExecuteTime": {
     "end_time": "2019-10-07T03:26:37.621002Z",
     "start_time": "2019-10-07T03:26:37.597505Z"
    }
   },
   "outputs": [
    {
     "name": "stdout",
     "output_type": "stream",
     "text": [
      "0.108*\"游戏\" + 0.027*\"孩子\" + 0.026*\"软件\" + 0.023*\"家长\" + 0.018*\"手机\" + 0.014*\"玩家\" + 0.014*\"电脑\" + 0.011*\"Windows\"\n",
      "0.021*\"联想\" + 0.019*\"苹果\" + 0.018*\"市场\" + 0.012*\"手机\" + 0.011*\"中国\" + 0.010*\"数据中心\" + 0.008*\"印度\" + 0.007*\"探讨\"\n",
      "0.020*\"互联网\" + 0.016*\"服务\" + 0.012*\"城市\" + 0.012*\"中国\" + 0.011*\"企业\" + 0.010*\"共享\" + 0.009*\"网络\" + 0.009*\"提供\"\n",
      "0.032*\"增长\" + 0.025*\"市场\" + 0.022*\"亿元\" + 0.016*\"显示\" + 0.016*\"公司\" + 0.015*\"超过\" + 0.013*\"同比\" + 0.011*\"数据\"\n",
      "0.072*\"百度\" + 0.044*\"人工智能\" + 0.019*\"腾讯\" + 0.017*\"公司\" + 0.012*\"阿里\" + 0.011*\"互联网\" + 0.011*\"领域\" + 0.011*\"AI\"\n",
      "0.023*\"品牌\" + 0.018*\"消费者\" + 0.018*\"用户\" + 0.017*\"营销\" + 0.016*\"京东\" + 0.015*\"体验\" + 0.013*\"消费\" + 0.012*\"产品\"\n",
      "0.025*\"企业\" + 0.020*\"技术\" + 0.016*\"发展\" + 0.015*\"中国\" + 0.014*\"服务\" + 0.014*\"行业\" + 0.013*\"领域\" + 0.012*\"机器人\"\n",
      "0.091*\"手机\" + 0.014*\"摄像头\" + 0.012*\"采用\" + 0.011*\"充电\" + 0.011*\"360\" + 0.011*\"VR\" + 0.011*\"系列\" + 0.010*\"设计\"\n",
      "0.054*\"内容\" + 0.035*\"视频\" + 0.020*\"媒体\" + 0.018*\"平台\" + 0.013*\"创业\" + 0.012*\"用户\" + 0.011*\"行业\" + 0.009*\"论坛\"\n",
      "0.032*\"攻击\" + 0.027*\"网络\" + 0.026*\"漏洞\" + 0.023*\"网络安全\" + 0.021*\"360\" + 0.019*\"信息\" + 0.017*\"支付\" + 0.015*\"威胁\"\n",
      "0.049*\"VR\" + 0.039*\"乐视\" + 0.024*\"第一季度\" + 0.018*\"营收\" + 0.017*\"装备\" + 0.016*\"存储\" + 0.009*\"协议\" + 0.009*\"软件\"\n",
      "0.045*\"技术\" + 0.040*\"智能\" + 0.034*\"数据\" + 0.018*\"人工智能\" + 0.017*\"汽车\" + 0.011*\"学习\" + 0.011*\"自动\" + 0.010*\"识别\"\n",
      "0.076*\"直播\" + 0.030*\"视频\" + 0.015*\"平台\" + 0.013*\"社交\" + 0.011*\"青年\" + 0.009*\"观看\" + 0.008*\"互动\" + 0.008*\"观众\"\n",
      "0.086*\"病毒\" + 0.044*\"小米\" + 0.028*\"政务\" + 0.016*\"社区\" + 0.009*\"米粉\" + 0.009*\"战队\" + 0.009*\"设备\" + 0.008*\"腾讯\"\n",
      "0.016*\"感染\" + 0.015*\"用户\" + 0.012*\"微信\" + 0.012*\"手机\" + 0.009*\"QQ\" + 0.008*\"二维码\" + 0.007*\"隐私\" + 0.007*\"单车\"\n",
      "0.025*\"发布\" + 0.025*\"电视\" + 0.020*\"报告\" + 0.017*\"显示\" + 0.015*\"数据\" + 0.014*\"中新网\" + 0.013*\"日电\" + 0.012*\"市场\"\n",
      "0.045*\"数据\" + 0.029*\"发展\" + 0.026*\"产业\" + 0.020*\"创新\" + 0.019*\"合作\" + 0.019*\"中国\" + 0.012*\"战略\" + 0.010*\"经济\"\n",
      "0.021*\"科技\" + 0.020*\"公司\" + 0.017*\"2017\" + 0.016*\"生态\" + 0.015*\"创业\" + 0.015*\"旅游\" + 0.015*\"日电\" + 0.014*\"中新网\"\n",
      "0.024*\"诈骗\" + 0.011*\"网络\" + 0.011*\"系统\" + 0.011*\"搜狗\" + 0.010*\"信息\" + 0.008*\"虚拟\" + 0.008*\"用户\" + 0.008*\"AMD\"\n",
      "0.069*\"用户\" + 0.025*\"勒索\" + 0.015*\"系统\" + 0.013*\"360\" + 0.013*\"提供\" + 0.013*\"流量\" + 0.013*\"服务\" + 0.012*\"功能\"\n"
     ]
    }
   ],
   "source": [
    "for topic in lda.print_topics(num_topics=20, num_words=8):\n",
    "    print(topic[1])"
   ]
  },
  {
   "cell_type": "code",
   "execution_count": null,
   "metadata": {},
   "outputs": [],
   "source": []
  }
 ],
 "metadata": {
  "kernelspec": {
   "display_name": "Python 3",
   "language": "python",
   "name": "python3"
  },
  "language_info": {
   "codemirror_mode": {
    "name": "ipython",
    "version": 3
   },
   "file_extension": ".py",
   "mimetype": "text/x-python",
   "name": "python",
   "nbconvert_exporter": "python",
   "pygments_lexer": "ipython3",
   "version": "3.6.8"
  }
 },
 "nbformat": 4,
 "nbformat_minor": 2
}
